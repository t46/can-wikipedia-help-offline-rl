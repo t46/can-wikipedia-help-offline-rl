{
 "cells": [
  {
   "cell_type": "code",
   "execution_count": 2,
   "id": "eb2e524b-7915-4fa3-89e7-05c75b5965c6",
   "metadata": {},
   "outputs": [
    {
     "name": "stderr",
     "output_type": "stream",
     "text": [
      "Warning: Flow failed to import. Set the environment variable D4RL_SUPPRESS_IMPORT_ERROR=1 to suppress this message.\n",
      "No module named 'flow'\n",
      "Warning: CARLA failed to import. Set the environment variable D4RL_SUPPRESS_IMPORT_ERROR=1 to suppress this message.\n",
      "No module named 'carla'\n",
      "pybullet build time: Mar  7 2022 18:18:14\n"
     ]
    }
   ],
   "source": [
    "import gym\n",
    "import d4rl # Import required to register environments\n",
    "import numpy as np\n",
    "import pickle\n",
    "import matplotlib.pyplot as plt\n",
    "import numpy as np\n",
    "import pandas as pd\n",
    "from tqdm.notebook import tqdm\n",
    "from sklearn.decomposition import PCA"
   ]
  },
  {
   "cell_type": "code",
   "execution_count": 37,
   "id": "7b2421f3-99a2-42f3-b2b0-1aab850e2e28",
   "metadata": {},
   "outputs": [
    {
     "name": "stderr",
     "output_type": "stream",
     "text": [
      "/Users/shiro/miniforge3/envs/wikirl-gym/lib/python3.8/site-packages/gym/spaces/box.py:84: UserWarning: \u001b[33mWARN: Box bound precision lowered by casting to float32\u001b[0m\n",
      "  logger.warn(f\"Box bound precision lowered by casting to {self.dtype}\")\n",
      "load datafile: 100%|██████████████████████████████████████████████████████████████████| 21/21 [00:01<00:00, 14.36it/s]\n"
     ]
    }
   ],
   "source": [
    "name = \"halfcheetah-expert-v2\"\n",
    "env = gym.make(name)\n",
    "dataset = env.get_dataset()\n",
    "actions = dataset['actions']\n",
    "observations = dataset['observations']\n",
    "rewards = dataset['rewards']"
   ]
  },
  {
   "cell_type": "code",
   "execution_count": 41,
   "id": "4735e5f4-3fd1-4f59-8d83-b906ed37a68a",
   "metadata": {},
   "outputs": [],
   "source": [
    "action_feature = PCA(n_components=1).fit(actions).transform(actions)\n",
    "state_feature = PCA(n_components=1).fit(observations).transform(observations)"
   ]
  },
  {
   "cell_type": "code",
   "execution_count": 50,
   "id": "6e222a57-94c1-4bb5-b32f-435587a8b833",
   "metadata": {},
   "outputs": [],
   "source": [
    "state_feature_cls_list, freqs = np.unique(state_feature, return_counts=True)"
   ]
  },
  {
   "cell_type": "code",
   "execution_count": 54,
   "id": "65c11db6-bfd1-40f7-b897-41ab4305d222",
   "metadata": {},
   "outputs": [
    {
     "data": {
      "text/plain": [
       "array([70,  0,  1, 69])"
      ]
     },
     "execution_count": 54,
     "metadata": {},
     "output_type": "execute_result"
    }
   ],
   "source": [
    "np.argsort(freqs)[:len(freqs)//16]"
   ]
  },
  {
   "cell_type": "code",
   "execution_count": 45,
   "id": "82d24238-9653-4d61-a10c-e2f35f3be778",
   "metadata": {},
   "outputs": [
    {
     "data": {
      "image/png": "[encoded data removed]",
      "text/plain": [
       "<Figure size 432x288 with 1 Axes>"
      ]
     },
     "metadata": {
      "needs_background": "light"
     },
     "output_type": "display_data"
    }
   ],
   "source": [
    "total_trajectory_len = 1000000\n",
    "round_idx = 0\n",
    "\n",
    "# select sub-actions\n",
    "state_feature = state_feature[:total_trajectory_len, :]\n",
    "\n",
    "# round action\n",
    "state_feature = np.round(state_feature, round_idx)\n",
    "\n",
    "state_feature, freqs = np.unique(state_feature, return_counts=True)[8]\n",
    "\n",
    "gap_list = []\n",
    "\n",
    "gap_len = 0\n",
    "for state in state_feature:\n",
    "    if state == state_cls:\n",
    "        gap_list.append(gap_len)\n",
    "        gap_len = 0\n",
    "    else:\n",
    "        gap_len += 1\n",
    "        \n",
    "gap, freq = np.unique(gap_list, return_counts=True)\n",
    "plt.scatter(gap, freq)\n",
    "plt.xscale('log')\n",
    "plt.yscale('log')\n",
    "plt.show()"
   ]
  }
 ],
 "metadata": {
  "kernelspec": {
   "display_name": "Python 3 (ipykernel)",
   "language": "python",
   "name": "python3"
  },
  "language_info": {
   "codemirror_mode": {
    "name": "ipython",
    "version": 3
   },
   "file_extension": ".py",
   "mimetype": "text/x-python",
   "name": "python",
   "nbconvert_exporter": "python",
   "pygments_lexer": "ipython3",
   "version": "3.8.12"
  }
 },
 "nbformat": 4,
 "nbformat_minor": 5
}
