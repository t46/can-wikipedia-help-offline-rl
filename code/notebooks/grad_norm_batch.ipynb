{
 "cells": [
  {
   "cell_type": "code",
   "execution_count": 1,
   "metadata": {},
   "outputs": [],
   "source": [
    "import gym\n",
    "import numpy as np\n",
    "import torch\n",
    "import wandb\n",
    "\n",
    "import argparse\n",
    "import pickle\n",
    "import random\n",
    "import sys\n",
    "\n",
    "sys.path.append('/Users/shiro/research/projects/rl-nlp/can-wikipedia-help-offline-rl/code')\n",
    "\n",
    "from decision_transformer.evaluation.evaluate_episodes import (\n",
    "    evaluate_episode,\n",
    "    evaluate_episode_rtg,\n",
    ")\n",
    "from decision_transformer.models.decision_transformer import DecisionTransformer\n",
    "from decision_transformer.models.mlp_bc import MLPBCModel\n",
    "from decision_transformer.training.act_trainer import ActTrainer\n",
    "from decision_transformer.training.seq_trainer import SequenceTrainer\n",
    "\n",
    "from utils import get_optimizer\n",
    "import os\n",
    "\n",
    "from tqdm.notebook import tqdm\n",
    "import seaborn as sns\n",
    "import matplotlib.pyplot as plt"
   ]
  },
  {
   "cell_type": "code",
   "execution_count": 2,
   "metadata": {},
   "outputs": [],
   "source": [
    "def discount_cumsum(x, gamma):\n",
    "    discount_cumsum = np.zeros_like(x)\n",
    "    discount_cumsum[-1] = x[-1]\n",
    "    for t in reversed(range(x.shape[0] - 1)):\n",
    "        discount_cumsum[t] = x[t] + gamma * discount_cumsum[t + 1]\n",
    "    return discount_cumsum\n",
    "\n",
    "def prepare_data(variant):\n",
    "    env_name, dataset = variant[\"env\"], variant[\"dataset\"]\n",
    "    model_type = variant[\"model_type\"]\n",
    "    exp_prefix = 'gym-experiment'\n",
    "    group_name = f\"{exp_prefix}-{env_name}-{dataset}\"\n",
    "    exp_prefix = f\"{group_name}-{random.randint(int(1e5), int(1e6) - 1)}\"\n",
    "\n",
    "    if env_name == \"hopper\":\n",
    "        env = gym.make(\"Hopper-v3\")\n",
    "        max_ep_len = 1000\n",
    "        env_targets = [3600, 1800]  # evaluation conditioning targets\n",
    "        scale = 1000.0  # normalization for rewards/returns\n",
    "    elif env_name == \"halfcheetah\":\n",
    "        env = gym.make(\"HalfCheetah-v3\")\n",
    "        max_ep_len = 1000\n",
    "        env_targets = [12000, 6000]\n",
    "        scale = 1000.0\n",
    "    elif env_name == \"walker2d\":\n",
    "        env = gym.make(\"Walker2d-v3\")\n",
    "        max_ep_len = 1000\n",
    "        env_targets = [5000, 2500]\n",
    "        scale = 1000.0\n",
    "    elif env_name == \"reacher2d\":\n",
    "        from decision_transformer.envs.reacher_2d import Reacher2dEnv\n",
    "\n",
    "        env = Reacher2dEnv()\n",
    "        max_ep_len = 100\n",
    "        env_targets = [76, 40]\n",
    "        scale = 10.0\n",
    "    else:\n",
    "        raise NotImplementedError\n",
    "\n",
    "    if model_type == \"bc\":\n",
    "        env_targets = env_targets[\n",
    "            :1\n",
    "        ]  # since BC ignores target, no need for different evaluations\n",
    "\n",
    "    state_dim = env.observation_space.shape[0]\n",
    "    act_dim = env.action_space.shape[0]\n",
    "\n",
    "    # load dataset\n",
    "    dataset_path = f\"../data/{env_name}-{dataset}-v2.pkl\"\n",
    "    with open(dataset_path, \"rb\") as f:\n",
    "        trajectories = pickle.load(f)\n",
    "\n",
    "    # save all path information into separate lists\n",
    "    mode = variant.get(\"mode\", \"normal\")\n",
    "    states, traj_lens, returns = [], [], []\n",
    "    for path in trajectories:\n",
    "        if mode == \"delayed\":  # delayed: all rewards moved to end of trajectory\n",
    "            path[\"rewards\"][-1] = path[\"rewards\"].sum()\n",
    "            path[\"rewards\"][:-1] = 0.0\n",
    "        states.append(path[\"observations\"])\n",
    "        traj_lens.append(len(path[\"observations\"]))\n",
    "        returns.append(path[\"rewards\"].sum())\n",
    "    traj_lens, returns = np.array(traj_lens), np.array(returns)\n",
    "\n",
    "    # used for input normalization\n",
    "    states = np.concatenate(states, axis=0)\n",
    "    state_mean, state_std = np.mean(states, axis=0), np.std(states, axis=0) + 1e-6\n",
    "\n",
    "    num_timesteps = sum(traj_lens)\n",
    "\n",
    "    print(\"=\" * 50)\n",
    "    print(f\"Starting new experiment: {env_name} {dataset}\")\n",
    "    print(f\"{len(traj_lens)} trajectories, {num_timesteps} timesteps found\")\n",
    "    print(f\"Average return: {np.mean(returns):.2f}, std: {np.std(returns):.2f}\")\n",
    "    print(f\"Max return: {np.max(returns):.2f}, min: {np.min(returns):.2f}\")\n",
    "    print(\"=\" * 50)\n",
    "    \n",
    "    pct_traj = variant.get(\"pct_traj\", 1.0)\n",
    "\n",
    "    # only train on top pct_traj trajectories (for %BC experiment)\n",
    "    num_timesteps = max(int(pct_traj * num_timesteps), 1)\n",
    "    sorted_inds = np.argsort(returns)  # lowest to highest\n",
    "    num_trajectories = 1\n",
    "    timesteps = traj_lens[sorted_inds[-1]]\n",
    "    ind = len(trajectories) - 2\n",
    "    while ind >= 0 and timesteps + traj_lens[sorted_inds[ind]] < num_timesteps:\n",
    "        timesteps += traj_lens[sorted_inds[ind]]\n",
    "        num_trajectories += 1\n",
    "        ind -= 1\n",
    "    sorted_inds = sorted_inds[-num_trajectories:]\n",
    "\n",
    "    # used to reweight sampling so we sample according to timesteps instead of trajectories\n",
    "    p_sample = traj_lens[sorted_inds] / sum(traj_lens[sorted_inds])\n",
    "    \n",
    "    return trajectories, sorted_inds, state_dim, act_dim, max_ep_len, state_mean, state_std, num_trajectories, p_sample, scale\n",
    "\n",
    "def get_batch(\n",
    "    batch_size, \n",
    "    max_len,\n",
    "    trajectories,\n",
    "    sorted_inds,\n",
    "    state_dim,\n",
    "    act_dim,\n",
    "    max_ep_len,\n",
    "    state_mean,\n",
    "    state_std,\n",
    "    num_trajectories,\n",
    "    p_sample,\n",
    "    scale,\n",
    "    device\n",
    "    ):\n",
    "    batch_inds = np.random.choice(\n",
    "        np.arange(num_trajectories),\n",
    "        size=batch_size,\n",
    "        replace=True,\n",
    "        p=p_sample,  # reweights so we sample according to timesteps\n",
    "    )\n",
    "\n",
    "    s, a, r, d, rtg, timesteps, mask = [], [], [], [], [], [], []\n",
    "    for i in range(batch_size):\n",
    "        traj = trajectories[int(sorted_inds[batch_inds[i]])]\n",
    "        si = random.randint(0, traj[\"rewards\"].shape[0] - 1)\n",
    "\n",
    "        # get sequences from dataset\n",
    "        s.append(traj[\"observations\"][si : si + max_len].reshape(1, -1, state_dim))\n",
    "        a.append(traj[\"actions\"][si : si + max_len].reshape(1, -1, act_dim))\n",
    "        r.append(traj[\"rewards\"][si : si + max_len].reshape(1, -1, 1))\n",
    "        if \"terminals\" in traj:\n",
    "            d.append(traj[\"terminals\"][si : si + max_len].reshape(1, -1))\n",
    "        else:\n",
    "            d.append(traj[\"dones\"][si : si + max_len].reshape(1, -1))\n",
    "        timesteps.append(np.arange(si, si + s[-1].shape[1]).reshape(1, -1))\n",
    "        timesteps[-1][timesteps[-1] >= max_ep_len] = (\n",
    "            max_ep_len - 1\n",
    "        )  # padding cutoff\n",
    "        rtg.append(\n",
    "            discount_cumsum(traj[\"rewards\"][si:], gamma=1.0)[\n",
    "                : s[-1].shape[1] + 1\n",
    "            ].reshape(1, -1, 1)\n",
    "        )\n",
    "        if rtg[-1].shape[1] <= s[-1].shape[1]:\n",
    "            rtg[-1] = np.concatenate([rtg[-1], np.zeros((1, 1, 1))], axis=1)\n",
    "\n",
    "        # padding and state + reward normalization\n",
    "        tlen = s[-1].shape[1]\n",
    "        s[-1] = np.concatenate(\n",
    "            [np.zeros((1, max_len - tlen, state_dim)), s[-1]], axis=1\n",
    "        )\n",
    "        s[-1] = (s[-1] - state_mean) / state_std\n",
    "        a[-1] = np.concatenate(\n",
    "            [np.ones((1, max_len - tlen, act_dim)) * -10.0, a[-1]], axis=1\n",
    "        )\n",
    "        r[-1] = np.concatenate([np.zeros((1, max_len - tlen, 1)), r[-1]], axis=1)\n",
    "        d[-1] = np.concatenate([np.ones((1, max_len - tlen)) * 2, d[-1]], axis=1)\n",
    "        rtg[-1] = (\n",
    "            np.concatenate([np.zeros((1, max_len - tlen, 1)), rtg[-1]], axis=1)\n",
    "            / scale\n",
    "        )\n",
    "        timesteps[-1] = np.concatenate(\n",
    "            [np.zeros((1, max_len - tlen)), timesteps[-1]], axis=1\n",
    "        )\n",
    "        mask.append(\n",
    "            np.concatenate(\n",
    "                [np.zeros((1, max_len - tlen)), np.ones((1, tlen))], axis=1\n",
    "            )\n",
    "        )\n",
    "\n",
    "    s = torch.from_numpy(np.concatenate(s, axis=0)).to(\n",
    "        dtype=torch.float32, device=device\n",
    "    )\n",
    "    a = torch.from_numpy(np.concatenate(a, axis=0)).to(\n",
    "        dtype=torch.float32, device=device\n",
    "    )\n",
    "    r = torch.from_numpy(np.concatenate(r, axis=0)).to(\n",
    "        dtype=torch.float32, device=device\n",
    "    )\n",
    "    d = torch.from_numpy(np.concatenate(d, axis=0)).to(\n",
    "        dtype=torch.long, device=device\n",
    "    )\n",
    "    rtg = torch.from_numpy(np.concatenate(rtg, axis=0)).to(\n",
    "        dtype=torch.float32, device=device\n",
    "    )\n",
    "    timesteps = torch.from_numpy(np.concatenate(timesteps, axis=0)).to(\n",
    "        dtype=torch.long, device=device\n",
    "    )\n",
    "    mask = torch.from_numpy(np.concatenate(mask, axis=0)).to(device=device)\n",
    "\n",
    "    return s, a, r, d, rtg, timesteps, mask"
   ]
  },
  {
   "cell_type": "code",
   "execution_count": 3,
   "metadata": {},
   "outputs": [
    {
     "name": "stdout",
     "output_type": "stream",
     "text": [
      "==================================================\n",
      "Starting new experiment: hopper medium\n",
      "2186 trajectories, 999906 timesteps found\n",
      "Average return: 1422.06, std: 378.95\n",
      "Max return: 3222.36, min: 315.87\n",
      "==================================================\n",
      "Loading from pretrained\n",
      "Loaded from ../checkpoints/gpt2_medium_hopper_666/model_1.pt\n"
     ]
    },
    {
     "data": {
      "application/vnd.jupyter.widget-view+json": {
       "model_id": "e149bea7ed984867939f956be601a028",
       "version_major": 2,
       "version_minor": 0
      },
      "text/plain": [
       "  0%|          | 0/100 [00:00<?, ?it/s]"
      ]
     },
     "metadata": {},
     "output_type": "display_data"
    },
    {
     "name": "stderr",
     "output_type": "stream",
     "text": [
      "/Users/shiro/miniforge3/envs/wikirl-gym/lib/python3.8/site-packages/torch/nn/functional.py:1933: UserWarning: nn.functional.tanh is deprecated. Use torch.tanh instead.\n",
      "  warnings.warn(\"nn.functional.tanh is deprecated. Use torch.tanh instead.\")\n"
     ]
    },
    {
     "data": {
      "application/vnd.jupyter.widget-view+json": {
       "model_id": "96e932195356431c8ab01a98367980c0",
       "version_major": 2,
       "version_minor": 0
      },
      "text/plain": [
       "  0%|          | 0/100 [00:00<?, ?it/s]"
      ]
     },
     "metadata": {},
     "output_type": "display_data"
    },
    {
     "name": "stdout",
     "output_type": "stream",
     "text": [
      "==================================================\n",
      "Starting new experiment: hopper medium\n",
      "2186 trajectories, 999906 timesteps found\n",
      "Average return: 1422.06, std: 378.95\n",
      "Max return: 3222.36, min: 315.87\n",
      "==================================================\n",
      "Loading from pretrained\n"
     ]
    },
    {
     "name": "stderr",
     "output_type": "stream",
     "text": [
      "You are using a model of type imagegpt to instantiate a model of type gpt2. This is not supported for all configurations of models and can yield errors.\n",
      "Some weights of the model checkpoint at openai/imagegpt-small were not used when initializing GPT2Model: ['lm_head.weight']\n",
      "- This IS expected if you are initializing GPT2Model from the checkpoint of a model trained on another task or with another architecture (e.g. initializing a BertForSequenceClassification model from a BertForPreTraining model).\n",
      "- This IS NOT expected if you are initializing GPT2Model from the checkpoint of a model that you expect to be exactly identical (initializing a BertForSequenceClassification model from a BertForSequenceClassification model).\n",
      "Some weights of GPT2Model were not initialized from the model checkpoint at openai/imagegpt-small and are newly initialized: ['transformer.h.0.ln_1.bias', 'transformer.h.20.ln_1.bias', 'transformer.h.4.ln_1.bias', 'transformer.h.7.ln_1.bias', 'transformer.h.20.ln_2.bias', 'transformer.h.5.ln_1.bias', 'transformer.h.2.ln_1.bias', 'transformer.h.17.ln_1.bias', 'transformer.h.11.ln_1.bias', 'transformer.h.13.ln_1.bias', 'transformer.h.2.ln_2.bias', 'transformer.h.12.ln_1.bias', 'transformer.h.23.ln_2.bias', 'transformer.h.12.ln_2.bias', 'transformer.h.13.ln_2.bias', 'transformer.h.16.ln_1.bias', 'transformer.h.22.ln_1.bias', 'transformer.h.15.ln_1.bias', 'transformer.h.19.ln_2.bias', 'transformer.h.22.ln_2.bias', 'transformer.h.18.ln_1.bias', 'transformer.h.9.ln_1.bias', 'transformer.h.1.ln_2.bias', 'transformer.h.8.ln_2.bias', 'transformer.h.1.ln_1.bias', 'transformer.h.14.ln_2.bias', 'transformer.h.5.ln_2.bias', 'transformer.h.18.ln_2.bias', 'transformer.h.3.ln_2.bias', 'transformer.h.21.ln_1.bias', 'transformer.h.15.ln_2.bias', 'transformer.h.11.ln_2.bias', 'transformer.h.6.ln_2.bias', 'transformer.h.10.ln_2.bias', 'transformer.ln_f.bias', 'transformer.h.19.ln_1.bias', 'transformer.h.9.ln_2.bias', 'transformer.h.21.ln_2.bias', 'transformer.h.0.ln_2.bias', 'transformer.h.4.ln_2.bias', 'transformer.h.10.ln_1.bias', 'transformer.h.23.ln_1.bias', 'transformer.h.16.ln_2.bias', 'transformer.h.8.ln_1.bias', 'transformer.h.6.ln_1.bias', 'transformer.h.14.ln_1.bias', 'transformer.h.3.ln_1.bias', 'transformer.h.17.ln_2.bias', 'transformer.h.7.ln_2.bias']\n",
      "You should probably TRAIN this model on a down-stream task to be able to use it for predictions and inference.\n"
     ]
    },
    {
     "name": "stdout",
     "output_type": "stream",
     "text": [
      "Loaded from ../checkpoints/igpt_medium_hopper_666/model_1.pt\n"
     ]
    },
    {
     "data": {
      "application/vnd.jupyter.widget-view+json": {
       "model_id": "e517a546f15641d989ce70420a0b9436",
       "version_major": 2,
       "version_minor": 0
      },
      "text/plain": [
       "  0%|          | 0/100 [00:00<?, ?it/s]"
      ]
     },
     "metadata": {},
     "output_type": "display_data"
    },
    {
     "data": {
      "application/vnd.jupyter.widget-view+json": {
       "model_id": "2a25b72acfcf425bb33c20a2b07ba6cc",
       "version_major": 2,
       "version_minor": 0
      },
      "text/plain": [
       "  0%|          | 0/100 [00:00<?, ?it/s]"
      ]
     },
     "metadata": {},
     "output_type": "display_data"
    },
    {
     "name": "stdout",
     "output_type": "stream",
     "text": [
      "==================================================\n",
      "Starting new experiment: hopper medium\n",
      "2186 trajectories, 999906 timesteps found\n",
      "Average return: 1422.06, std: 378.95\n",
      "Max return: 3222.36, min: 315.87\n",
      "==================================================\n",
      "Loaded from ../checkpoints/dt_medium_hopper_666/model_1.pt\n"
     ]
    },
    {
     "data": {
      "application/vnd.jupyter.widget-view+json": {
       "model_id": "cb3aef34ed0b433fbb2807c6a105207b",
       "version_major": 2,
       "version_minor": 0
      },
      "text/plain": [
       "  0%|          | 0/100 [00:00<?, ?it/s]"
      ]
     },
     "metadata": {},
     "output_type": "display_data"
    },
    {
     "data": {
      "application/vnd.jupyter.widget-view+json": {
       "model_id": "8b217bbb2b0347498ed2e5d472e8d6d4",
       "version_major": 2,
       "version_minor": 0
      },
      "text/plain": [
       "  0%|          | 0/100 [00:00<?, ?it/s]"
      ]
     },
     "metadata": {},
     "output_type": "display_data"
    },
    {
     "data": {
      "image/png": "[encoded data removed]",
      "text/plain": [
       "<Figure size 432x288 with 1 Axes>"
      ]
     },
     "metadata": {
      "needs_background": "light"
     },
     "output_type": "display_data"
    }
   ],
   "source": [
    "seed=666\n",
    "epoch=1\n",
    "env_name='hopper'\n",
    "reward_state_action = 'state'\n",
    "\n",
    "torch.manual_seed(seed)\n",
    "\n",
    "dataset_name = 'medium'\n",
    "\n",
    "model_names = ['gpt2', 'igpt', 'dt']  # ['gpt2', 'igpt', 'dt']\n",
    "grad_norms_list = []\n",
    "\n",
    "for model_name in model_names:\n",
    "\n",
    "    if model_name == 'gpt2':\n",
    "        pretrained_lm1 = 'gpt2'\n",
    "    elif model_name == 'clip':\n",
    "        pretrained_lm1 = 'openai/clip-vit-base-patch32'\n",
    "    elif model_name == 'igpt':\n",
    "        pretrained_lm1 = 'openai/imagegpt-small'\n",
    "    elif model_name == 'dt':\n",
    "        pretrained_lm1 = False\n",
    "\n",
    "    variant = {\n",
    "        'embed_dim': 768,\n",
    "        'n_layer': 12,\n",
    "        'n_head': 1,\n",
    "        'activation_function': 'relu',\n",
    "        'dropout': 0.2, # 0.1\n",
    "        'load_checkpoint': False if epoch==0 else f'../checkpoints/{model_name}_medium_{env_name}_666/model_{epoch}.pt',\n",
    "        'seed': seed,\n",
    "        'outdir': f\"checkpoints/{model_name}_{dataset_name}_{env_name}_{seed}\",\n",
    "        'env': env_name,\n",
    "        'dataset': dataset_name,\n",
    "        'model_type': 'dt',\n",
    "        'K': 20, # 2\n",
    "        'pct_traj': 1.0,\n",
    "        'batch_size': 100,  # 64\n",
    "        'num_eval_episodes': 100,\n",
    "        'max_iters': 40,\n",
    "        'num_steps_per_iter': 2500,\n",
    "        'pretrained_lm': pretrained_lm1,\n",
    "        'gpt_kmeans': None,\n",
    "        'kmeans_cache': None,\n",
    "        'frozen': False,\n",
    "        'extend_positions': False,\n",
    "        'share_input_output_proj': True\n",
    "    }\n",
    "\n",
    "    os.makedirs(variant[\"outdir\"], exist_ok=True)\n",
    "    device = torch.device(\"cuda\" if torch.cuda.is_available() else \"cpu\")\n",
    "\n",
    "    trajectories, sorted_inds, state_dim, act_dim, max_ep_len, state_mean, state_std, num_trajectories, p_sample, scale = prepare_data(variant)\n",
    "\n",
    "    K = variant[\"K\"]\n",
    "    batch_size = variant[\"batch_size\"]\n",
    "\n",
    "    loss_fn = lambda s_hat, a_hat, r_hat, s, a, r: torch.mean((a_hat - a) ** 2)\n",
    "\n",
    "    model = DecisionTransformer(\n",
    "        args=variant,\n",
    "        state_dim=state_dim,\n",
    "        act_dim=act_dim,\n",
    "        max_length=K,\n",
    "        max_ep_len=max_ep_len,\n",
    "        hidden_size=variant[\"embed_dim\"],\n",
    "        n_layer=variant[\"n_layer\"],\n",
    "        n_head=variant[\"n_head\"],\n",
    "        n_inner=4 * variant[\"embed_dim\"],\n",
    "        activation_function=variant[\"activation_function\"],\n",
    "        n_positions=1024,\n",
    "        resid_pdrop=variant[\"dropout\"],\n",
    "        attn_pdrop=0.1,\n",
    "    )\n",
    "    if variant[\"load_checkpoint\"]:\n",
    "        state_dict = torch.load(variant[\"load_checkpoint\"], map_location=torch.device('cpu'))\n",
    "        model.load_state_dict(state_dict)\n",
    "        print(f\"Loaded from {variant['load_checkpoint']}\")\n",
    "\n",
    "    # model.eval()\n",
    "\n",
    "    # grad = {}\n",
    "    # def get_grad(name):\n",
    "    #     def hook(model, input, output):\n",
    "    #         grad[name] = output.detach()\n",
    "    #     return hook\n",
    "\n",
    "    # for block_id in range(len(model.transformer.h)):\n",
    "    #     model.transformer.h[block_id].ln_1.register_backward_hook(get_grad(f'{block_id}.ln_1'))\n",
    "    #     model.transformer.h[block_id].attn.c_attn.register_backward_hook(get_grad(f'{block_id}.attn.c_attn'))\n",
    "    #     model.transformer.h[block_id].attn.c_proj.register_backward_hook(get_grad(f'{block_id}.attn.c_proj'))\n",
    "    #     model.transformer.h[block_id].attn.attn_dropout.register_backward_hook(get_grad(f'{block_id}.attn.attn_dropout'))\n",
    "    #     model.transformer.h[block_id].attn.resid_dropout.register_backward_hook(get_grad(f'{block_id}.attn.resid_dropout'))\n",
    "    #     model.transformer.h[block_id].ln_2.register_backward_hook(get_grad(f'{block_id}.ln_2'))\n",
    "    #     model.transformer.h[block_id].mlp.c_fc.register_backward_hook(get_grad(f'{block_id}.mlp.c_fc'))\n",
    "    #     model.transformer.h[block_id].mlp.c_proj.register_backward_hook(get_grad(f'{block_id}.mlp.c_proj'))\n",
    "    #     model.transformer.h[block_id].mlp.act.register_backward_hook(get_grad(f'{block_id}.mlp.act'))\n",
    "    #     model.transformer.h[block_id].mlp.dropout.register_backward_hook(get_grad(f'{block_id}.mlp.dropout'))\n",
    "    states, actions, rewards, dones, rtg, timesteps, attention_mask = get_batch(batch_size, \n",
    "                                                                                K,\n",
    "                                                                                trajectories,\n",
    "                                                                                sorted_inds,\n",
    "                                                                                state_dim,\n",
    "                                                                                act_dim,\n",
    "                                                                                max_ep_len,\n",
    "                                                                                state_mean,\n",
    "                                                                                state_std,\n",
    "                                                                                num_trajectories,\n",
    "                                                                                p_sample,\n",
    "                                                                                scale,\n",
    "                                                                                device\n",
    "                                                                                )\n",
    "    action_target = torch.clone(actions)\n",
    "    grads_list = []\n",
    "\n",
    "    for batch_id in tqdm(range(batch_size)):\n",
    "        ##### 勾配計算 #####\n",
    "        action_target_batch = action_target[batch_id, :, :].unsqueeze(0)\n",
    "\n",
    "        state_preds, action_preds, reward_preds, all_embs = model.forward(\n",
    "            states[batch_id, :, :].unsqueeze(0),\n",
    "            actions[batch_id, :, :].unsqueeze(0),\n",
    "            rewards[batch_id, :, :].unsqueeze(0),\n",
    "            rtg[batch_id, :-1].unsqueeze(0),\n",
    "            timesteps[batch_id, :].unsqueeze(0),\n",
    "            attention_mask=attention_mask[batch_id, :].unsqueeze(0),\n",
    "        )\n",
    "\n",
    "        act_dim = action_preds.shape[2]\n",
    "        action_preds = action_preds.reshape(-1, act_dim)[attention_mask[batch_id, :].unsqueeze(0).reshape(-1) > 0]\n",
    "        action_target_batch = action_target_batch.reshape(-1, act_dim)[\n",
    "            attention_mask[batch_id, :].unsqueeze(0).reshape(-1) > 0\n",
    "        ]\n",
    "\n",
    "        model.zero_grad()\n",
    "        loss = loss_fn(\n",
    "            None,\n",
    "            action_preds,\n",
    "            None,\n",
    "            None,\n",
    "            action_target_batch,\n",
    "            None,\n",
    "        )\n",
    "        loss.backward()\n",
    "        torch.nn.utils.clip_grad_norm_(model.parameters(), .25)\n",
    "\n",
    "        grads = []\n",
    "        for name, param in model.transformer.h.named_parameters():\n",
    "            grads.append(param.grad.view(-1))\n",
    "        grads = torch.cat(grads)\n",
    "\n",
    "        grads_list.append(grads)\n",
    "        # torch.nn.utils.clip_grad_norm_(model.parameters(), 0.25)  # grad normの閾値を敷く\n",
    "        # grad_ordered = {}\n",
    "        # for block_id in range(len(model.transformer.h)):\n",
    "        #     for block_name in block_name_list:\n",
    "        #         grad_ordered[f'{block_id}.{block_name}'] = grad[f'{block_id}.{block_name}']\n",
    "\n",
    "    # np.save(f'results/grad_{epoch}_{model_name}_{env_name}_{dataset_name}_{seed}_{reward_state_action}.npy', grads_list)\n",
    "\n",
    "    grad_norm_list = []\n",
    "    for grads in tqdm(grads_list):\n",
    "        grad_norm_list.append(torch.norm(grads).numpy())\n",
    "    grad_norms = np.array(grad_norm_list)\n",
    "    \n",
    "    grad_norms_list.append(grad_norms)\n",
    "\n",
    "np.save(f'results/gradnorms_{epoch}_gpt2_igpt_dt_{env_name}_{dataset_name}_{seed}_{reward_state_action}.npy', grad_norms_list)\n",
    "\n",
    "model_name_label = ['GPT2', 'iGPT', 'Random Init']\n",
    "colors = [(0.372, 0.537, 0.537), (0.627, 0.352, 0.470), (0.733, 0.737, 0.870)]\n",
    "my_palette = sns.color_palette(colors)\n",
    "sns.boxplot(data=grad_norms_list, palette=my_palette)  # \"PuBuGn_r\"\n",
    "plt.xticks(np.arange(3), model_name_label)\n",
    "# plt.savefig(f'figs/gradnorms_{epoch}_gpt2_igpt_dt_{env_name}_{dataset_name}_{seed}_{reward_state_action}.pdf')\n",
    "plt.show()"
   ]
  },
  {
   "cell_type": "code",
   "execution_count": 4,
   "metadata": {},
   "outputs": [
    {
     "data": {
      "image/png": "[encoded data removed]",
      "text/plain": [
       "<Figure size 432x288 with 1 Axes>"
      ]
     },
     "metadata": {
      "needs_background": "light"
     },
     "output_type": "display_data"
    }
   ],
   "source": [
    "model_name_label = ['GPT2', 'iGPT', 'Random Init']\n",
    "colors = [(0.372, 0.537, 0.537), (0.627, 0.352, 0.470), (0.733, 0.737, 0.870)]\n",
    "my_palette = sns.color_palette(colors)\n",
    "sns.boxplot(data=grad_norms_list, palette=my_palette)  # \"PuBuGn_r\"\n",
    "plt.xticks(np.arange(3), model_name_label)\n",
    "# plt.savefig(f'figs/gradnorms_{epoch}_gpt2_igpt_dt_{env_name}_{dataset_name}_{seed}_{reward_state_action}.pdf')\n",
    "plt.show()"
   ]
  },
  {
   "cell_type": "code",
   "execution_count": 31,
   "metadata": {},
   "outputs": [
    {
     "name": "stdout",
     "output_type": "stream",
     "text": [
      "0.09237757\n"
     ]
    },
    {
     "data": {
      "image/png": "[encoded data removed]",
      "text/plain": [
       "<Figure size 432x288 with 1 Axes>"
      ]
     },
     "metadata": {
      "needs_background": "light"
     },
     "output_type": "display_data"
    },
    {
     "name": "stdout",
     "output_type": "stream",
     "text": [
      "0.20414001\n"
     ]
    },
    {
     "data": {
      "image/png": "[encoded data removed]",
      "text/plain": [
       "<Figure size 432x288 with 1 Axes>"
      ]
     },
     "metadata": {
      "needs_background": "light"
     },
     "output_type": "display_data"
    },
    {
     "name": "stdout",
     "output_type": "stream",
     "text": [
      "0.13091764\n"
     ]
    },
    {
     "data": {
      "image/png": "[encoded data removed]",
      "text/plain": [
       "<Figure size 432x288 with 1 Axes>"
      ]
     },
     "metadata": {
      "needs_background": "light"
     },
     "output_type": "display_data"
    }
   ],
   "source": [
    "for i in range(3):\n",
    "    print(min(grad_norms_list[i]))\n",
    "    plt.hist(grad_norms_list[i], bins=100)\n",
    "    plt.show()"
   ]
  },
  {
   "cell_type": "code",
   "execution_count": 34,
   "metadata": {},
   "outputs": [
    {
     "data": {
      "text/plain": [
       "tensor(15.3845)"
      ]
     },
     "execution_count": 34,
     "metadata": {},
     "output_type": "execute_result"
    }
   ],
   "source": [
    "parameters = [p for p in model.parameters() if p.grad is not None]\n",
    "torch.norm(torch.stack([torch.norm(p.grad.detach()) for p in parameters]))"
   ]
  },
  {
   "cell_type": "code",
   "execution_count": 35,
   "metadata": {},
   "outputs": [
    {
     "data": {
      "text/plain": [
       "tensor(15.3845)"
      ]
     },
     "execution_count": 35,
     "metadata": {},
     "output_type": "execute_result"
    }
   ],
   "source": [
    "torch.nn.utils.clip_grad_norm_(model.parameters(), .25)"
   ]
  }
 ],
 "metadata": {
  "interpreter": {
   "hash": "07f70ea1113ee523b3efee6307f7578bdf4830bd47c6db9199b4b48d8758cb04"
  },
  "kernelspec": {
   "display_name": "Python 3.8.12 ('wikirl-gym')",
   "language": "python",
   "name": "python3"
  },
  "language_info": {
   "codemirror_mode": {
    "name": "ipython",
    "version": 3
   },
   "file_extension": ".py",
   "mimetype": "text/x-python",
   "name": "python",
   "nbconvert_exporter": "python",
   "pygments_lexer": "ipython3",
   "version": "3.8.12"
  },
  "orig_nbformat": 4
 },
 "nbformat": 4,
 "nbformat_minor": 2
}
