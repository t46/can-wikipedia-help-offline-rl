{
 "cells": [
  {
   "cell_type": "code",
   "execution_count": 50,
   "id": "eb2e524b-7915-4fa3-89e7-05c75b5965c6",
   "metadata": {},
   "outputs": [],
   "source": [
    "import gym\n",
    "import d4rl # Import required to register environments\n",
    "import numpy as np\n",
    "import pickle\n"
   ]
  },
  {
   "cell_type": "code",
   "execution_count": 51,
   "id": "b08d4a2e-4167-4c60-84e1-017922eb4b68",
   "metadata": {},
   "outputs": [
    {
     "name": "stderr",
     "output_type": "stream",
     "text": [
      "load datafile: 100%|██████████████████████████████████████████████████████████████████| 21/21 [00:01<00:00, 13.01it/s]\n"
     ]
    }
   ],
   "source": [
    "name = \"halfcheetah-medium-v2\"\n",
    "env = gym.make(name)\n",
    "dataset = env.get_dataset()"
   ]
  },
  {
   "cell_type": "code",
   "execution_count": 52,
   "id": "e0b0b387-b59b-4f01-a8b0-f71c62a5a9f1",
   "metadata": {},
   "outputs": [
    {
     "data": {
      "text/plain": [
       "dict"
      ]
     },
     "execution_count": 52,
     "metadata": {},
     "output_type": "execute_result"
    }
   ],
   "source": [
    "type(dataset)"
   ]
  },
  {
   "cell_type": "code",
   "execution_count": 53,
   "id": "f2e6c506-8b0a-48cb-ae01-46053288001c",
   "metadata": {},
   "outputs": [
    {
     "data": {
      "text/plain": [
       "['actions',\n",
       " 'infos/action_log_probs',\n",
       " 'infos/qpos',\n",
       " 'infos/qvel',\n",
       " 'metadata/algorithm',\n",
       " 'metadata/iteration',\n",
       " 'metadata/policy/fc0/bias',\n",
       " 'metadata/policy/fc0/weight',\n",
       " 'metadata/policy/fc1/bias',\n",
       " 'metadata/policy/fc1/weight',\n",
       " 'metadata/policy/last_fc/bias',\n",
       " 'metadata/policy/last_fc/weight',\n",
       " 'metadata/policy/last_fc_log_std/bias',\n",
       " 'metadata/policy/last_fc_log_std/weight',\n",
       " 'metadata/policy/nonlinearity',\n",
       " 'metadata/policy/output_distribution',\n",
       " 'next_observations',\n",
       " 'observations',\n",
       " 'rewards',\n",
       " 'terminals',\n",
       " 'timeouts']"
      ]
     },
     "execution_count": 53,
     "metadata": {},
     "output_type": "execute_result"
    }
   ],
   "source": [
    "list(dataset.keys())"
   ]
  },
  {
   "cell_type": "code",
   "execution_count": 54,
   "id": "569a9dbf-2834-4998-a612-50c646c3f126",
   "metadata": {},
   "outputs": [
    {
     "data": {
      "text/plain": [
       "1000000"
      ]
     },
     "execution_count": 54,
     "metadata": {},
     "output_type": "execute_result"
    }
   ],
   "source": [
    "len(dataset['actions'])"
   ]
  },
  {
   "cell_type": "code",
   "execution_count": 38,
   "id": "dd8ea699-3454-4244-a7c6-448fab11d96f",
   "metadata": {},
   "outputs": [
    {
     "data": {
      "text/plain": [
       "True"
      ]
     },
     "execution_count": 38,
     "metadata": {},
     "output_type": "execute_result"
    }
   ],
   "source": [
    "all(dataset['observations'][1] == dataset['next_observations'][0])"
   ]
  },
  {
   "cell_type": "code",
   "execution_count": 20,
   "id": "eeca1226-4a5f-48db-9c33-1ddfbdc9bc63",
   "metadata": {},
   "outputs": [
    {
     "data": {
      "text/plain": [
       "0"
      ]
     },
     "execution_count": 20,
     "metadata": {},
     "output_type": "execute_result"
    }
   ],
   "source": [
    "dataset['terminals']"
   ]
  },
  {
   "cell_type": "code",
   "execution_count": 45,
   "id": "80d62698-a3b4-4e6a-9a5c-d6ac6cbdf506",
   "metadata": {},
   "outputs": [],
   "source": [
    "with open('../data/halfcheetah-medium-v2.pkl', 'rb') as file:\n",
    "    data_sequence = pickle.load(file)"
   ]
  },
  {
   "cell_type": "code",
   "execution_count": 46,
   "id": "9fc90d86-a951-4b3c-b9ac-43564cc8df97",
   "metadata": {},
   "outputs": [
    {
     "data": {
      "text/plain": [
       "['observations', 'next_observations', 'actions', 'rewards', 'terminals']"
      ]
     },
     "execution_count": 46,
     "metadata": {},
     "output_type": "execute_result"
    }
   ],
   "source": [
    "list(data_sequence[0].keys())"
   ]
  },
  {
   "cell_type": "code",
   "execution_count": 47,
   "id": "3523850a-831f-43c3-9967-292babd5945e",
   "metadata": {},
   "outputs": [
    {
     "data": {
      "text/plain": [
       "(1000, 17)"
      ]
     },
     "execution_count": 47,
     "metadata": {},
     "output_type": "execute_result"
    }
   ],
   "source": [
    "data_sequence[0]['observations'].shape"
   ]
  },
  {
   "cell_type": "code",
   "execution_count": 49,
   "id": "f65184a0-e10d-4afa-b26d-6030d0db3416",
   "metadata": {},
   "outputs": [
    {
     "data": {
      "text/plain": [
       "True"
      ]
     },
     "execution_count": 49,
     "metadata": {},
     "output_type": "execute_result"
    }
   ],
   "source": [
    "all(data_sequence[0]['next_observations'][0] == data_sequence[0]['observations'][1])"
   ]
  },
  {
   "cell_type": "code",
   "execution_count": 48,
   "id": "ca956cc0-9b6b-49bd-bcba-82ff0e788099",
   "metadata": {},
   "outputs": [
    {
     "data": {
      "text/plain": [
       "1000"
      ]
     },
     "execution_count": 48,
     "metadata": {},
     "output_type": "execute_result"
    }
   ],
   "source": [
    "len(data_sequence)"
   ]
  },
  {
   "cell_type": "code",
   "execution_count": 43,
   "id": "4350720d-c9c3-48cd-b525-0aaee5748aeb",
   "metadata": {},
   "outputs": [
    {
     "data": {
      "text/plain": [
       "False"
      ]
     },
     "execution_count": 43,
     "metadata": {},
     "output_type": "execute_result"
    }
   ],
   "source": [
    "all(data_sequence[0]['next_observations'][-1] == data_sequence[1]['observations'][0])"
   ]
  },
  {
   "cell_type": "code",
   "execution_count": 44,
   "id": "609abeaf-9f73-43e9-bbce-d7fb31df7599",
   "metadata": {},
   "outputs": [
    {
     "data": {
      "text/plain": [
       "(17,)"
      ]
     },
     "execution_count": 44,
     "metadata": {},
     "output_type": "execute_result"
    }
   ],
   "source": [
    "data_sequence[0]['next_observations'][-1].shape"
   ]
  },
  {
   "cell_type": "code",
   "execution_count": null,
   "id": "1d8bc37b-2e6e-4329-9375-37731d95be77",
   "metadata": {},
   "outputs": [],
   "source": [
    "for env_name in [\"halfcheetah\", \"hopper\", \"walker2d\"]:\n",
    "    for dataset_type in [\"medium\", \"medium-replay\", \"expert\", \"medium-expert\"]:\n",
    "        name = f\"{env_name}-{dataset_type}-v2\"\n",
    "        env = gym.make(name)\n",
    "        dataset = env.get_dataset()"
   ]
  }
 ],
 "metadata": {
  "kernelspec": {
   "display_name": "Python 3 (ipykernel)",
   "language": "python",
   "name": "python3"
  },
  "language_info": {
   "codemirror_mode": {
    "name": "ipython",
    "version": 3
   },
   "file_extension": ".py",
   "mimetype": "text/x-python",
   "name": "python",
   "nbconvert_exporter": "python",
   "pygments_lexer": "ipython3",
   "version": "3.8.12"
  }
 },
 "nbformat": 4,
 "nbformat_minor": 5
}
