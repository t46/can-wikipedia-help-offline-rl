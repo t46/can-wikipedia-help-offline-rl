{
 "cells": [
  {
   "cell_type": "code",
   "execution_count": 1,
   "metadata": {},
   "outputs": [],
   "source": [
    "import numpy as np\n",
    "import torch\n",
    "import os\n",
    "from tqdm.notebook import tqdm\n",
    "import seaborn as sns\n",
    "import matplotlib.pyplot as plt\n",
    "import sys\n",
    "\n",
    "sys.path.append('../')\n",
    "from sample_batch_data import get_data_info, get_batch\n",
    "from signal_propagation import get_gradients"
   ]
  },
  {
   "cell_type": "code",
   "execution_count": 2,
   "metadata": {},
   "outputs": [],
   "source": [
    "sns.set_style(\"ticks\")\n",
    "sns.set_context(\"paper\", 1.5, {\"lines.linewidth\": 2})"
   ]
  },
  {
   "cell_type": "code",
   "execution_count": 4,
   "metadata": {},
   "outputs": [
    {
     "data": {
      "application/vnd.jupyter.widget-view+json": {
       "model_id": "c6510429d14446eab974dd6e8bc5ddef",
       "version_major": 2,
       "version_minor": 0
      },
      "text/plain": [
       "  0%|          | 0/3 [00:00<?, ?it/s]"
      ]
     },
     "metadata": {},
     "output_type": "display_data"
    },
    {
     "name": "stdout",
     "output_type": "stream",
     "text": [
      "==================================================\n",
      "Starting new experiment: hopper medium\n",
      "2186 trajectories, 999906 timesteps found\n",
      "Average return: 1422.06, std: 378.95\n",
      "Max return: 3222.36, min: 315.87\n",
      "==================================================\n",
      "Loading from pretrained\n",
      "Loaded from ../../checkpoints/gpt2_medium_hopper_666/model_1.pt\n"
     ]
    },
    {
     "data": {
      "application/vnd.jupyter.widget-view+json": {
       "model_id": "28d2fc33b26b40efa9b60a0d10062ef9",
       "version_major": 2,
       "version_minor": 0
      },
      "text/plain": [
       "  0%|          | 0/50 [00:00<?, ?it/s]"
      ]
     },
     "metadata": {},
     "output_type": "display_data"
    },
    {
     "name": "stderr",
     "output_type": "stream",
     "text": [
      "/Users/shiro/miniforge3/envs/wikirl-gym/lib/python3.8/site-packages/torch/nn/functional.py:1933: UserWarning: nn.functional.tanh is deprecated. Use torch.tanh instead.\n",
      "  warnings.warn(\"nn.functional.tanh is deprecated. Use torch.tanh instead.\")\n"
     ]
    },
    {
     "data": {
      "application/vnd.jupyter.widget-view+json": {
       "model_id": "510d2b7c17874cb5a53d0ec461ef82ab",
       "version_major": 2,
       "version_minor": 0
      },
      "text/plain": [
       "  0%|          | 0/50 [00:00<?, ?it/s]"
      ]
     },
     "metadata": {},
     "output_type": "display_data"
    },
    {
     "name": "stdout",
     "output_type": "stream",
     "text": [
      "==================================================\n",
      "Starting new experiment: hopper medium\n",
      "2186 trajectories, 999906 timesteps found\n",
      "Average return: 1422.06, std: 378.95\n",
      "Max return: 3222.36, min: 315.87\n",
      "==================================================\n",
      "Loading from pretrained\n"
     ]
    },
    {
     "name": "stderr",
     "output_type": "stream",
     "text": [
      "You are using a model of type imagegpt to instantiate a model of type gpt2. This is not supported for all configurations of models and can yield errors.\n",
      "Some weights of the model checkpoint at openai/imagegpt-small were not used when initializing GPT2Model: ['lm_head.weight']\n",
      "- This IS expected if you are initializing GPT2Model from the checkpoint of a model trained on another task or with another architecture (e.g. initializing a BertForSequenceClassification model from a BertForPreTraining model).\n",
      "- This IS NOT expected if you are initializing GPT2Model from the checkpoint of a model that you expect to be exactly identical (initializing a BertForSequenceClassification model from a BertForSequenceClassification model).\n",
      "Some weights of GPT2Model were not initialized from the model checkpoint at openai/imagegpt-small and are newly initialized: ['transformer.h.1.ln_2.bias', 'transformer.h.22.ln_1.bias', 'transformer.h.21.ln_1.bias', 'transformer.h.8.ln_2.bias', 'transformer.h.2.ln_1.bias', 'transformer.h.18.ln_2.bias', 'transformer.h.19.ln_1.bias', 'transformer.h.13.ln_2.bias', 'transformer.h.20.ln_1.bias', 'transformer.h.11.ln_2.bias', 'transformer.h.23.ln_1.bias', 'transformer.h.4.ln_2.bias', 'transformer.h.5.ln_2.bias', 'transformer.h.3.ln_1.bias', 'transformer.h.17.ln_2.bias', 'transformer.h.8.ln_1.bias', 'transformer.h.23.ln_2.bias', 'transformer.h.14.ln_1.bias', 'transformer.h.16.ln_2.bias', 'transformer.h.9.ln_1.bias', 'transformer.h.13.ln_1.bias', 'transformer.h.6.ln_2.bias', 'transformer.h.18.ln_1.bias', 'transformer.h.2.ln_2.bias', 'transformer.h.10.ln_1.bias', 'transformer.h.12.ln_2.bias', 'transformer.h.9.ln_2.bias', 'transformer.h.22.ln_2.bias', 'transformer.h.21.ln_2.bias', 'transformer.h.15.ln_2.bias', 'transformer.h.7.ln_2.bias', 'transformer.h.0.ln_2.bias', 'transformer.h.14.ln_2.bias', 'transformer.h.7.ln_1.bias', 'transformer.h.3.ln_2.bias', 'transformer.h.15.ln_1.bias', 'transformer.h.6.ln_1.bias', 'transformer.h.20.ln_2.bias', 'transformer.h.11.ln_1.bias', 'transformer.h.0.ln_1.bias', 'transformer.h.12.ln_1.bias', 'transformer.h.1.ln_1.bias', 'transformer.h.16.ln_1.bias', 'transformer.h.19.ln_2.bias', 'transformer.h.17.ln_1.bias', 'transformer.h.5.ln_1.bias', 'transformer.h.10.ln_2.bias', 'transformer.ln_f.bias', 'transformer.h.4.ln_1.bias']\n",
      "You should probably TRAIN this model on a down-stream task to be able to use it for predictions and inference.\n"
     ]
    },
    {
     "name": "stdout",
     "output_type": "stream",
     "text": [
      "Loaded from ../../checkpoints/igpt_medium_hopper_666/model_1.pt\n"
     ]
    },
    {
     "data": {
      "application/vnd.jupyter.widget-view+json": {
       "model_id": "0be4dffbc9144c22a826ab5129492388",
       "version_major": 2,
       "version_minor": 0
      },
      "text/plain": [
       "  0%|          | 0/50 [00:00<?, ?it/s]"
      ]
     },
     "metadata": {},
     "output_type": "display_data"
    },
    {
     "data": {
      "application/vnd.jupyter.widget-view+json": {
       "model_id": "8929292e355942d4b02d7fd0982bab0c",
       "version_major": 2,
       "version_minor": 0
      },
      "text/plain": [
       "  0%|          | 0/50 [00:00<?, ?it/s]"
      ]
     },
     "metadata": {},
     "output_type": "display_data"
    },
    {
     "name": "stdout",
     "output_type": "stream",
     "text": [
      "==================================================\n",
      "Starting new experiment: hopper medium\n",
      "2186 trajectories, 999906 timesteps found\n",
      "Average return: 1422.06, std: 378.95\n",
      "Max return: 3222.36, min: 315.87\n",
      "==================================================\n",
      "Loaded from ../../checkpoints/dt_medium_hopper_666/model_1.pt\n"
     ]
    },
    {
     "data": {
      "application/vnd.jupyter.widget-view+json": {
       "model_id": "e717fe5636634c66a85e5005741ccef0",
       "version_major": 2,
       "version_minor": 0
      },
      "text/plain": [
       "  0%|          | 0/50 [00:00<?, ?it/s]"
      ]
     },
     "metadata": {},
     "output_type": "display_data"
    },
    {
     "data": {
      "application/vnd.jupyter.widget-view+json": {
       "model_id": "926fddff077f4abc8811eddfd9a6518d",
       "version_major": 2,
       "version_minor": 0
      },
      "text/plain": [
       "  0%|          | 0/50 [00:00<?, ?it/s]"
      ]
     },
     "metadata": {},
     "output_type": "display_data"
    },
    {
     "data": {
      "image/png": "[encoded data removed]",
      "text/plain": [
       "<Figure size 432x288 with 1 Axes>"
      ]
     },
     "metadata": {},
     "output_type": "display_data"
    }
   ],
   "source": [
    "seed=666\n",
    "epoch=1\n",
    "env_name='hopper'\n",
    "dataset_name = 'medium'\n",
    "env_name = 'hopper'\n",
    "\n",
    "model_names = ['gpt2', 'igpt', 'dt']\n",
    "gradcossims_list = []\n",
    "min_gradcossims_list = []\n",
    "\n",
    "for model_name in tqdm(model_names):\n",
    "\n",
    "    torch.manual_seed(seed)\n",
    "\n",
    "    if model_name == 'gpt2':\n",
    "        pretrained_lm1 = 'gpt2'\n",
    "    elif model_name == 'clip':\n",
    "        pretrained_lm1 = 'openai/clip-vit-base-patch32'\n",
    "    elif model_name == 'igpt':\n",
    "        pretrained_lm1 = 'openai/imagegpt-small'\n",
    "    elif model_name == 'dt':\n",
    "        pretrained_lm1 = False\n",
    "\n",
    "    variant = {\n",
    "        'embed_dim': 768,\n",
    "        'n_layer': 12,\n",
    "        'n_head': 1,\n",
    "        'activation_function': 'relu',\n",
    "        'dropout': 0.2, # 0.1\n",
    "        'load_checkpoint': False if epoch==0 else f'../../checkpoints/{model_name}_medium_{env_name}_666/model_{epoch}.pt',\n",
    "        'seed': seed,\n",
    "        'outdir': f\"checkpoints/{model_name}_{dataset_name}_{env_name}_{seed}\",\n",
    "        'env': env_name,\n",
    "        'dataset': dataset_name,\n",
    "        'model_type': 'dt',\n",
    "        'K': 20,\n",
    "        'pct_traj': 1.0,\n",
    "        'batch_size': 50,\n",
    "        'num_eval_episodes': 100,\n",
    "        'max_iters': 40,\n",
    "        'num_steps_per_iter': 2500,\n",
    "        'pretrained_lm': pretrained_lm1,\n",
    "        'gpt_kmeans': None,\n",
    "        'kmeans_cache': None,\n",
    "        'frozen': False,\n",
    "        'extend_positions': False,\n",
    "        'share_input_output_proj': True\n",
    "    }\n",
    "\n",
    "    device = torch.device(\"cuda\" if torch.cuda.is_available() else \"cpu\")\n",
    "\n",
    "    state_dim, act_dim, max_ep_len, scale = get_data_info(variant)\n",
    "    states, actions, rewards, dones, rtg, timesteps, attention_mask = get_batch(variant, state_dim, act_dim, max_ep_len, scale, device)\n",
    "    grads_list = get_gradients(variant, state_dim, act_dim, max_ep_len, states, actions, rewards, rtg, timesteps, attention_mask)\n",
    "    gradcossim_list = []\n",
    "    for grads1 in tqdm(grads_list):\n",
    "        for grads2 in grads_list:\n",
    "            gradcossim_list.append((torch.dot(grads1, grads2) / (1e-6 + torch.norm(grads1) * torch.norm(grads2))).numpy())\n",
    "    gradcossim = np.array(gradcossim_list)\n",
    "    np.save(f'results/gradcossim_{epoch}_{model_name}_{env_name}_{dataset_name}_{seed}.npy', gradcossim)\n",
    "\n",
    "    gradcossims_list.append(gradcossim)\n",
    "\n",
    "np.save(f'results/gradcossim_{epoch}_gpt2_igpt_dt_{env_name}_{dataset_name}_{seed}.npy', gradcossims_list)\n",
    "\n",
    "min_gradcossims_list = []\n",
    "for model_name in model_names:\n",
    "    min_gradcossim = np.min(np.load(f'results/gradcossim_{epoch}_{model_name}_{env_name}_{dataset_name}_{seed}.npy'))\n",
    "    min_gradcossims_list.append([min_gradcossim])\n",
    "\n",
    "model_name_label = ['GPT2', 'iGPT', 'Random Init']\n",
    "colors = [(0.372, 0.537, 0.537), (0.627, 0.352, 0.470), (0.733, 0.737, 0.870)]\n",
    "my_palette = sns.color_palette(colors)\n",
    "sns.barplot(data=min_gradcossims_list, palette=my_palette)  # \"PuBuGn_r\"\n",
    "plt.xticks(np.arange(3), model_name_label)\n",
    "plt.ylabel(r'Min of $cossim(\\nabla_{\\theta}\\ell_1, \\nabla_{\\theta}\\ell_2)$')\n",
    "plt.savefig(f'figs/mingradcossim_{epoch}_gpt2_igpt_dt_{env_name}_{dataset_name}_{seed}.pdf')\n",
    "plt.show()"
   ]
  },
  {
   "cell_type": "code",
   "execution_count": 5,
   "metadata": {},
   "outputs": [
    {
     "data": {
      "image/png": "[encoded data removed]",
      "text/plain": [
       "<Figure size 432x288 with 1 Axes>"
      ]
     },
     "metadata": {},
     "output_type": "display_data"
    }
   ],
   "source": [
    "seed=666\n",
    "epoch=1\n",
    "env_name='hopper'\n",
    "dataset_name = 'medium'\n",
    "env_name = 'hopper'\n",
    "\n",
    "min_gradcossims_list = []\n",
    "for model_name in model_names:\n",
    "    min_gradcossim = np.min(np.load(f'results/gradcossim_{epoch}_{model_name}_{env_name}_{dataset_name}_{seed}.npy'))\n",
    "    min_gradcossims_list.append([min_gradcossim])\n",
    "\n",
    "model_name_label = ['GPT2', 'iGPT', 'Random Init']\n",
    "colors = [(0.372, 0.537, 0.537), (0.627, 0.352, 0.470), (0.733, 0.737, 0.870)]\n",
    "my_palette = sns.color_palette(colors)\n",
    "sns.barplot(data=min_gradcossims_list, palette=my_palette)  # \"PuBuGn_r\"\n",
    "plt.xticks(np.arange(3), model_name_label)\n",
    "plt.ylabel(r'Min of $cossim(\\nabla_{\\theta}\\ell_1, \\nabla_{\\theta}\\ell_2)$')\n",
    "plt.savefig(f'figs/mingradcossim_{epoch}_gpt2_igpt_dt_{env_name}_{dataset_name}_{seed}.pdf')\n",
    "plt.show()"
   ]
  }
 ],
 "metadata": {
  "interpreter": {
   "hash": "07f70ea1113ee523b3efee6307f7578bdf4830bd47c6db9199b4b48d8758cb04"
  },
  "kernelspec": {
   "display_name": "Python 3.8.12 ('wikirl-gym')",
   "language": "python",
   "name": "python3"
  },
  "language_info": {
   "codemirror_mode": {
    "name": "ipython",
    "version": 3
   },
   "file_extension": ".py",
   "mimetype": "text/x-python",
   "name": "python",
   "nbconvert_exporter": "python",
   "pygments_lexer": "ipython3",
   "version": "3.8.12"
  },
  "orig_nbformat": 4
 },
 "nbformat": 4,
 "nbformat_minor": 2
}
