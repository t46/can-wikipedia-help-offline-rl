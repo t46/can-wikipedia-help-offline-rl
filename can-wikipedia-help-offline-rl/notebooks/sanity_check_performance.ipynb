{
 "cells": [
  {
   "cell_type": "markdown",
   "id": "fb10e383",
   "metadata": {},
   "source": [
    "# Sanity Check"
   ]
  },
  {
   "cell_type": "code",
   "execution_count": 6,
   "id": "28453ccf-521f-4f2d-9e4a-6d84ef48db7a",
   "metadata": {},
   "outputs": [],
   "source": [
    "import wandb\n",
    "from pprint import pprint\n",
    "\n",
    "import gym\n",
    "import d4rl\n",
    "import pickle\n",
    "import numpy as np"
   ]
  },
  {
   "cell_type": "markdown",
   "id": "c9a4395f-0b63-415a-bf82-7ef993196f1a",
   "metadata": {},
   "source": [
    "## Get Runs from Wandb"
   ]
  },
  {
   "cell_type": "code",
   "execution_count": 14,
   "id": "913a0b4e-f705-4323-b7f2-36ba5d996318",
   "metadata": {},
   "outputs": [],
   "source": [
    "model_name = 'igpt'\n",
    "env_name = 'hopper'\n",
    "seed = 666\n",
    "\n",
    "wandb_project_name = 'you_wandb_project_name'\n",
    "api = wandb.Api()\n",
    "runs = api.runs(\n",
    "    path=wandb_project_name,\n",
    "    filters={'state':'finished'}\n",
    "    )\n",
    "\n",
    "for run in runs:\n",
    "    if run.name == f'gym-experiment-{env_name}-medium-{model_name}-{seed}':\n",
    "        break"
   ]
  },
  {
   "cell_type": "markdown",
   "id": "0685c6ce-8a26-4145-9993-382d352599cc",
   "metadata": {},
   "source": [
    "## Get Return from Run"
   ]
  },
  {
   "cell_type": "code",
   "execution_count": 15,
   "id": "326afb45-e260-46d8-a1f9-1a7351e9f351",
   "metadata": {},
   "outputs": [],
   "source": [
    "if env_name == 'hopper':\n",
    "    rtg_conditioning = 3600\n",
    "elif env_name == 'halfcheetah':\n",
    "    rtg_conditioning = 6000\n",
    "elif env_name == 'walker2d':\n",
    "    rtg_conditioning = 5000\n",
    "else:\n",
    "    rtg_conditioning = None\n",
    "\n",
    "return_map = {}\n",
    "return_map['medium'] = max(run.history()[f'evaluation/target_{rtg_conditioning}_return_mean'])\n",
    "best_checkpoint_epoch = np.argmax(run.history()[f'evaluation/target_{rtg_conditioning}_return_mean']) + 1"
   ]
  },
  {
   "cell_type": "markdown",
   "id": "a6238b16-ef18-4ffa-95ba-241502df890b",
   "metadata": {},
   "source": [
    "## Get Return of Random and Expert"
   ]
  },
  {
   "cell_type": "code",
   "execution_count": 16,
   "id": "ef3d01e0-fcb3-4cf7-a6d6-a82d7f62d6b3",
   "metadata": {},
   "outputs": [
    {
     "name": "stdout",
     "output_type": "stream",
     "text": [
      "==================================================\n",
      "Starting new experiment: hopper random\n",
      "45239 trajectories, 999996 timesteps found\n",
      "Average return: 18.40, std: 17.45\n",
      "Max return: 292.55, min: 2.93\n",
      "==================================================\n",
      "==================================================\n",
      "Starting new experiment: hopper expert\n",
      "1027 trajectories, 999494 timesteps found\n",
      "Average return: 3511.36, std: 328.59\n",
      "Max return: 3759.08, min: 1645.28\n",
      "==================================================\n"
     ]
    }
   ],
   "source": [
    "datasets = [\"random\", \"expert\"]\n",
    "path_to_dataset = 'path_to_dataset'\n",
    "\n",
    "for dataset in datasets:\n",
    "\n",
    "    if env_name == \"hopper\":\n",
    "        env = gym.make(\"Hopper-v3\")\n",
    "        max_ep_len = 1000\n",
    "        env_targets = [3600, 1800]  # evaluation conditioning targets\n",
    "        scale = 1000.0  # normalization for rewards/returns\n",
    "    elif env_name == \"halfcheetah\":\n",
    "        env = gym.make(\"HalfCheetah-v3\")\n",
    "        max_ep_len = 1000\n",
    "        env_targets = [12000, 6000]\n",
    "        scale = 1000.0\n",
    "    elif env_name == \"walker2d\":\n",
    "        env = gym.make(\"Walker2d-v3\")\n",
    "        max_ep_len = 1000\n",
    "        env_targets = [5000, 2500]\n",
    "        scale = 1000.0\n",
    "    elif env_name == \"reacher2d\":\n",
    "        from decision_transformer.envs.reacher_2d import Reacher2dEnv\n",
    "\n",
    "        env = Reacher2dEnv()\n",
    "        max_ep_len = 100\n",
    "        env_targets = [76, 40]\n",
    "        scale = 10.0\n",
    "    else:\n",
    "        raise NotImplementedError\n",
    "\n",
    "    state_dim = env.observation_space.shape[0]\n",
    "    act_dim = env.action_space.shape[0]\n",
    "\n",
    "    # load dataset\n",
    "    dataset_path = f\"{path_to_dataset}/{env_name}-{dataset}-v2.pkl\"\n",
    "    with open(dataset_path, \"rb\") as f:\n",
    "        trajectories = pickle.load(f)\n",
    "\n",
    "    # save all path information into separate lists\n",
    "    mode = \"normal\"\n",
    "    states, traj_lens, returns = [], [], []\n",
    "    for path in trajectories:\n",
    "        if mode == \"delayed\":  # delayed: all rewards moved to end of trajectory\n",
    "            path[\"rewards\"][-1] = path[\"rewards\"].sum()\n",
    "            path[\"rewards\"][:-1] = 0.0\n",
    "        states.append(path[\"observations\"])\n",
    "        traj_lens.append(len(path[\"observations\"]))\n",
    "        returns.append(path[\"rewards\"].sum())\n",
    "    traj_lens, returns = np.array(traj_lens), np.array(returns)\n",
    "\n",
    "    # used for input normalization\n",
    "    states = np.concatenate(states, axis=0)\n",
    "    state_mean, state_std = np.mean(states, axis=0), np.std(states, axis=0) + 1e-6\n",
    "\n",
    "    num_timesteps = sum(traj_lens)\n",
    "\n",
    "    print(\"=\" * 50)\n",
    "    print(f\"Starting new experiment: {env_name} {dataset}\")\n",
    "    print(f\"{len(traj_lens)} trajectories, {num_timesteps} timesteps found\")\n",
    "    print(f\"Average return: {np.mean(returns):.2f}, std: {np.std(returns):.2f}\")\n",
    "    print(f\"Max return: {np.max(returns):.2f}, min: {np.min(returns):.2f}\")\n",
    "    print(\"=\" * 50)\n",
    "    \n",
    "    if dataset == 'random':\n",
    "        return_map['random'] = np.mean(returns)\n",
    "    elif dataset == 'expert':\n",
    "        return_map['expert'] = np.mean(returns)"
   ]
  },
  {
   "cell_type": "markdown",
   "id": "e08f2b1b-5f95-403b-b3c3-9034a856186c",
   "metadata": {},
   "source": [
    "## Show Normalized Score"
   ]
  },
  {
   "cell_type": "code",
   "execution_count": 17,
   "id": "a4a42138-4a0f-4e5f-825d-f866d312a7d4",
   "metadata": {},
   "outputs": [
    {
     "name": "stdout",
     "output_type": "stream",
     "text": [
      "'igpt-hopper-666'\n",
      "{'expert': 3511.3577, 'medium': 118.69181341220788, 'random': 18.398905}\n",
      "Epoch: 11\n",
      "Normalized Score: 2.8712880990132525\n"
     ]
    }
   ],
   "source": [
    "pprint(f'{model_name}-{env_name}-{seed}')\n",
    "pprint(return_map)\n",
    "normalized_score = 100 * (return_map['medium'] - return_map['random']) / (return_map['expert'] - return_map['random'])\n",
    "print(f'Epoch: {best_checkpoint_epoch}')\n",
    "print(f'Normalized Score: {normalized_score}')"
   ]
  }
 ],
 "metadata": {
  "kernelspec": {
   "display_name": "Python 3.8.13 ('transformer_genralization')",
   "language": "python",
   "name": "python3"
  },
  "language_info": {
   "codemirror_mode": {
    "name": "ipython",
    "version": 3
   },
   "file_extension": ".py",
   "mimetype": "text/x-python",
   "name": "python",
   "nbconvert_exporter": "python",
   "pygments_lexer": "ipython3",
   "version": "3.8.13"
  },
  "vscode": {
   "interpreter": {
    "hash": "e69258a44f8e7625f8a17da91770617d51f6311f8535e6184b95ec1daa3f2df5"
   }
  }
 },
 "nbformat": 4,
 "nbformat_minor": 5
}
